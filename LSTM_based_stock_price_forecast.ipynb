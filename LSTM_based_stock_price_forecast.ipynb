{
 "cells": [
  {
   "cell_type": "markdown",
   "id": "5d024328",
   "metadata": {},
   "source": [
    "# Stock Price and Sentiment Analysis with LSTM\n",
    "\n",
    "This notebook performs stock price prediction using LSTM by combining stock data from Yahoo Finance and sentiment analysis from news data using the FinBERT model.\n"
   ]
  },
  {
   "cell_type": "markdown",
   "id": "77516a30",
   "metadata": {},
   "source": [
    "## Step 1: Import Libraries\n",
    "\n",
    "We begin by importing necessary libraries for data handling, fetching, sentiment analysis, scaling, and modeling.\n"
   ]
  },
  {
   "cell_type": "code",
   "execution_count": 1,
   "id": "baa5e26e",
   "metadata": {},
   "outputs": [],
   "source": [
    "# Importing necessary libraries\n",
    "import yfinance as yf\n",
    "import pandas as pd\n",
    "import finnhub\n",
    "from datetime import datetime, timedelta\n",
    "from transformers import pipeline, AutoTokenizer\n",
    "import time\n",
    "from sklearn.preprocessing import MinMaxScaler\n",
    "from sklearn.model_selection import train_test_split\n",
    "import numpy as np\n",
    "from keras.models import Sequential\n",
    "from keras.layers import LSTM, Dense, Dropout\n",
    "from keras_tuner import RandomSearch\n",
    "import matplotlib.pyplot as plt\n"
   ]
  },
  {
   "cell_type": "markdown",
   "id": "41611feb",
   "metadata": {},
   "source": [
    "## Step 2: Fetch Stock Data\n",
    "\n",
    "In this step, we define a function to fetch historical stock data for a given ticker symbol from Yahoo Finance. The function takes the ticker symbol, start date, and end date as inputs and returns the stock data.\n"
   ]
  },
  {
   "cell_type": "code",
   "execution_count": 2,
   "id": "26b8e032",
   "metadata": {},
   "outputs": [],
   "source": [
    "def fetch_stock_data(ticker, start_date, end_date):\n",
    "    return yf.download(ticker, start=start_date, end=end_date)\n"
   ]
  },
  {
   "cell_type": "markdown",
   "id": "665bcac2",
   "metadata": {},
   "source": [
    "## Step 3: Fetch Sentiment Data\n",
    "\n",
    "Here, we define a function to fetch sentiment data for the specified company using the Finnhub API. The function loops over the date range, fetching news articles in two-day increments, and returns a DataFrame of news articles with timestamps.\n"
   ]
  },
  {
   "cell_type": "code",
   "execution_count": 3,
   "id": "96f6c36c",
   "metadata": {},
   "outputs": [],
   "source": [
    "def fetch_sentiment_data(company, start_date, end_date, finnhub_client):\n",
    "    all_data = []\n",
    "    current_date = start_date\n",
    "    api_call_count = 0\n",
    "    \n",
    "    while current_date < end_date:\n",
    "        next_date = current_date + timedelta(days=2)\n",
    "        _from = current_date.strftime('%Y-%m-%d')\n",
    "        _to = next_date.strftime('%Y-%m-%d')\n",
    "        \n",
    "        data = finnhub_client.company_news(company, _from=_from, to=_to)\n",
    "        all_data.extend(data)\n",
    "        api_call_count += 1\n",
    "        \n",
    "        if api_call_count >= 60:\n",
    "            print(\"API call limit reached. Waiting for 61 seconds...\")\n",
    "            time.sleep(61)\n",
    "            api_call_count = 0\n",
    "        \n",
    "        current_date = next_date\n",
    "    \n",
    "    df = pd.DataFrame(all_data)\n",
    "    df['timestamp'] = pd.to_datetime(df['datetime'], unit='s')\n",
    "    df = df.sort_values(by='timestamp')\n",
    "    return df\n"
   ]
  },
  {
   "cell_type": "markdown",
   "id": "4db70e25",
   "metadata": {},
   "source": [
    "## Step 4: Perform Sentiment Analysis\n",
    "\n",
    "In this step, we perform sentiment analysis on the news articles using the FinBERT model. The sentiment analysis results are then converted into sentiment scores, which are added to the DataFrame.\n"
   ]
  },
  {
   "cell_type": "code",
   "execution_count": 4,
   "id": "9e3b710b",
   "metadata": {},
   "outputs": [],
   "source": [
    "def perform_sentiment_analysis(df):\n",
    "    sentiment_model = pipeline('sentiment-analysis', model=\"ProsusAI/finbert\")\n",
    "    tokenizer = AutoTokenizer.from_pretrained(\"ProsusAI/finbert\")\n",
    "    \n",
    "    def truncate_and_analyze(text):\n",
    "        tokens = tokenizer(text, truncation=True, max_length=512, return_tensors='pt')\n",
    "        truncated_text = tokenizer.decode(tokens['input_ids'][0], skip_special_tokens=True)\n",
    "        return sentiment_model(truncated_text)[0]['label']\n",
    "    \n",
    "    df['sentiment'] = df['summary'].apply(truncate_and_analyze)\n",
    "    label_to_score = {'positive': 1, 'neutral': 0, 'negative': -1}\n",
    "    df['sentiment_score'] = df['sentiment'].map(label_to_score)\n",
    "    df['date'] = df['timestamp'].dt.date\n",
    "    return df\n"
   ]
  },
  {
   "cell_type": "markdown",
   "id": "23732728",
   "metadata": {},
   "source": [
    "## Step 5: Combine Stock and Sentiment Data\n",
    "\n",
    "We combine the stock data with the sentiment data by aligning the sentiment scores with the trading days. This step includes shifting sentiment scores from non-trading days to the next trading day and merging the datasets.\n"
   ]
  },
  {
   "cell_type": "code",
   "execution_count": 5,
   "id": "dbd8e49a",
   "metadata": {},
   "outputs": [],
   "source": [
    "def combine_stock_and_sentiment(stock_data, sentiment_data):\n",
    "    trading_days = pd.to_datetime(stock_data.index).date\n",
    "    \n",
    "    def shift_to_next_trading_day(row):\n",
    "        if row['date'] not in trading_days:\n",
    "            future_trading_days = [day for day in trading_days if day > row['date']]\n",
    "            if future_trading_days:\n",
    "                return future_trading_days[0]\n",
    "        return row['date']\n",
    "    \n",
    "    sentiment_data['adjusted_date'] = sentiment_data.apply(shift_to_next_trading_day, axis=1)\n",
    "    daily_sentiment = sentiment_data.groupby('adjusted_date')['sentiment_score'].mean().reset_index()\n",
    "    daily_sentiment.rename(columns={'adjusted_date': 'date'}, inplace=True)\n",
    "    \n",
    "    stock_data.reset_index(inplace=True)\n",
    "    stock_data['Date'] = pd.to_datetime(stock_data['Date']).dt.date\n",
    "    \n",
    "    combined_data = pd.merge(stock_data, daily_sentiment, left_on='Date', right_on='date', how='left')\n",
    "    combined_data.drop(columns=['date'], inplace=True)\n",
    "    return combined_data\n"
   ]
  },
  {
   "cell_type": "markdown",
   "id": "5a54e5a7",
   "metadata": {},
   "source": [
    "## Step 6: Scale Features\n",
    "\n",
    "To prepare the data for modeling, we scale the stock features and sentiment scores using MinMaxScaler. We also calculate moving averages and drop any rows with missing values due to the moving average calculation.\n"
   ]
  },
  {
   "cell_type": "code",
   "execution_count": 6,
   "id": "b9fc6e40",
   "metadata": {},
   "outputs": [],
   "source": [
    "def scale_features(combined_data):\n",
    "    scaler = MinMaxScaler(feature_range=(0, 1))\n",
    "    combined_data[['Open', 'High', 'Low', 'Close', 'Volume', 'sentiment_score']] = scaler.fit_transform(\n",
    "        combined_data[['Open', 'High', 'Low', 'Close', 'Volume', 'sentiment_score']])\n",
    "    \n",
    "    combined_data['ma5'] = combined_data['Close'].rolling(window=5).mean()\n",
    "    combined_data['ma10'] = combined_data['Close'].rolling(window=10).mean()\n",
    "    combined_data.dropna(inplace=True)\n",
    "    \n",
    "    return combined_data"
   ]
  },
  {
   "cell_type": "markdown",
   "id": "fb15cc5c",
   "metadata": {},
   "source": [
    "## Step 7: Prepare Data for LSTM\n",
    "\n",
    "This section prepares the data for the LSTM model by defining the features and target variable. We split the data into training and testing sets and reshape it into a 3D array required by the LSTM model.\n"
   ]
  },
  {
   "cell_type": "code",
   "execution_count": 7,
   "id": "18c6fa68",
   "metadata": {},
   "outputs": [],
   "source": [
    "def prepare_lstm_data(combined_data):\n",
    "    features = ['Open', 'High', 'Low', 'Close', 'Volume', 'sentiment_score', 'ma5', 'ma10']\n",
    "    target = 'Close'\n",
    "    \n",
    "    X = combined_data[features].values\n",
    "    y = combined_data[target].values\n",
    "    \n",
    "    X_train, X_test, y_train, y_test = train_test_split(X, y, test_size=0.2, shuffle=False)\n",
    "    \n",
    "    X_train = np.reshape(X_train, (X_train.shape[0], 1, X_train.shape[1]))\n",
    "    X_test = np.reshape(X_test, (X_test.shape[0], 1, X_test.shape[1]))\n",
    "    \n",
    "    return X_train, X_test, y_train, y_test\n"
   ]
  },
  {
   "cell_type": "markdown",
   "id": "6c27ef83",
   "metadata": {},
   "source": [
    "## Step 8: Build and Train LSTM Model\n",
    "\n",
    "In this step, we define a function to build and train an LSTM model using Keras and Keras Tuner for hyperparameter optimization. The function returns the best model based on validation loss.\n"
   ]
  },
  {
   "cell_type": "code",
   "execution_count": 8,
   "id": "4415733c",
   "metadata": {},
   "outputs": [],
   "source": [
    "def build_and_train_lstm(X_train, y_train, X_test, y_test):\n",
    "    def build_model(hp):\n",
    "        model = Sequential()\n",
    "        for i in range(hp.Int('num_layers', 1, 3)):\n",
    "            model.add(LSTM(units=hp.Int('units_' + str(i), min_value=50, max_value=200, step=50),\n",
    "                           return_sequences=True if i < hp.Int('num_layers', 1, 3) - 1 else False,\n",
    "                           input_shape=(X_train.shape[1], X_train.shape[2])))\n",
    "            model.add(Dropout(hp.Float('dropout_' + str(i), 0.1, 0.5, step=0.1)))\n",
    "        model.add(Dense(1))\n",
    "        model.compile(optimizer=hp.Choice('optimizer', ['adam', 'rmsprop']), loss='mean_squared_error')\n",
    "        return model\n",
    "    \n",
    "    tuner = RandomSearch(build_model, objective='val_loss', max_trials=10, executions_per_trial=2,\n",
    "                         directory='my_dir', project_name='lstm_hpo')\n",
    "    tuner.search(X_train, y_train, epochs=50, validation_data=(X_test, y_test))\n",
    "    best_model = tuner.get_best_models(num_models=1)[0]\n",
    "    \n",
    "    return best_model, tuner"
   ]
  },
  {
   "cell_type": "markdown",
   "id": "4a90c68f",
   "metadata": {},
   "source": [
    "## Step 9: Evaluate and Plot\n",
    "\n",
    "Finally, we evaluate the performance of the best model and plot the predicted stock prices against the actual prices. This section also summarizes the results of the hyperparameter optimization process.\n"
   ]
  },
  {
   "cell_type": "code",
   "execution_count": 9,
   "id": "2f6e8f4e",
   "metadata": {},
   "outputs": [],
   "source": [
    "def evaluate_and_plot(best_model, X_test, y_test, combined_data):\n",
    "    predicted_stock_price = best_model.predict(X_test)\n",
    "    test_dates = combined_data.iloc[-len(y_test):]['Date'].values\n",
    "    \n",
    "    plt.figure(figsize=(12, 6))\n",
    "    plt.plot(test_dates, y_test, color='red', label='Actual Stock Price')\n",
    "    plt.plot(test_dates, predicted_stock_price, color='blue', label='Predicted Stock Price')\n",
    "    plt.title('Stock Price Prediction (Best Model)')\n",
    "    plt.xlabel('Date')\n",
    "    plt.ylabel('Stock Price')\n",
    "    plt.legend()\n",
    "    plt.xticks(rotation=45)\n",
    "    plt.show()\n",
    "    \n",
    "    results = tuner.get_best_hyperparameters(num_trials=10)\n",
    "    performance_data = []\n",
    "    \n",
    "    for i, result in enumerate(results):\n",
    "        model = tuner.hypermodel.build(result)\n",
    "        history = model.fit(X_train, y_train, epochs=50, validation_data=(X_test, y_test), verbose=0)\n",
    "        val_loss = history.history['val_loss'][-1]\n",
    "        performance_data.append({'Trial': i + 1, 'Hyperparameters': result.values, 'Validation Loss': val_loss})\n",
    "    \n",
    "    performance_df = pd.DataFrame(performance_data)\n",
    "    performance_df = performance_df.sort_values(by='Validation Loss')\n",
    "    return performance_df\n"
   ]
  },
  {
   "cell_type": "markdown",
   "id": "7add5fbb",
   "metadata": {},
   "source": [
    "## Step 10: Main Execution Block\n",
    "\n",
    "This section brings together all the functions defined above and executes the workflow from data fetching to model evaluation and plotting.\n"
   ]
  },
  {
   "cell_type": "code",
   "execution_count": 10,
   "id": "eb3fd696",
   "metadata": {},
   "outputs": [
    {
     "name": "stdout",
     "output_type": "stream",
     "text": [
      "Trial 10 Complete [00h 00m 10s]\n",
      "val_loss: 0.004369762376882136\n",
      "\n",
      "Best val_loss So Far: 0.000647871580440551\n",
      "Total elapsed time: 00h 01m 15s\n",
      "\u001b[1m2/2\u001b[0m \u001b[32m━━━━━━━━━━━━━━━━━━━━\u001b[0m\u001b[37m\u001b[0m \u001b[1m0s\u001b[0m 68ms/step\n"
     ]
    },
    {
     "name": "stderr",
     "output_type": "stream",
     "text": [
      "/Users/selim/anaconda3/lib/python3.11/site-packages/keras/src/saving/saving_lib.py:415: UserWarning: Skipping variable loading for optimizer 'rmsprop', because it has 2 variables whereas the saved optimizer has 7 variables. \n",
      "  saveable.load_own_variables(weights_store.get(inner_path))\n"
     ]
    },
    {
     "data": {
      "image/png": "[encoded data removed]",
      "text/plain": [
       "<Figure size 1200x600 with 1 Axes>"
      ]
     },
     "metadata": {},
     "output_type": "display_data"
    }
   ],
   "source": [
    "# Define parameters\n",
    "start_date = \"2023-08-01\"\n",
    "end_date = \"2024-08-01\"\n",
    "ticker = \"AAPL\"\n",
    "company = \"AAPL\"\n",
    "\n",
    "# Fetch data\n",
    "stock_data = fetch_stock_data(ticker, start_date, end_date)\n",
    "finnhub_client = finnhub.Client(api_key=\"cqquf8pr01qor5igjm80cqquf8pr01qor5igjm8g\")\n",
    "sentiment_data = fetch_sentiment_data(company, datetime(2023, 8, 1), datetime(2024, 8, 1), finnhub_client)\n",
    "\n",
    "# Perform sentiment analysis\n",
    "sentiment_data = perform_sentiment_analysis(sentiment_data)\n",
    "\n",
    "# Combine data\n",
    "combined_data = combine_stock_and_sentiment(stock_data, sentiment_data)\n",
    "\n",
    "# Scale features\n",
    "combined_data = scale_features(combined_data)\n",
    "\n",
    "# Prepare data for LSTM\n",
    "X_train, X_test, y_train, y_test = prepare_lstm_data(combined_data)\n",
    "\n",
    "# Build, train, and evaluate the LSTM model\n",
    "best_model, tuner = build_and_train_lstm(X_train, y_train, X_test, y_test)\n",
    "\n",
    "# Evaluate and plot results\n",
    "performance_df = evaluate_and_plot(best_model, X_test, y_test, combined_data)\n"
   ]
  },
  {
   "cell_type": "markdown",
   "id": "cd69a002",
   "metadata": {},
   "source": [
    "## Conclusion\n",
    "\n",
    "This notebook demonstrates how to predict stock prices using an LSTM model combined with sentiment analysis from news data. The entire process from data collection to model training and evaluation is covered.\n"
   ]
  },
  {
   "cell_type": "code",
   "execution_count": null,
   "id": "8a973a6f",
   "metadata": {},
   "outputs": [],
   "source": []
  }
 ],
 "metadata": {
  "kernelspec": {
   "display_name": "Python 3 (ipykernel)",
   "language": "python",
   "name": "python3"
  },
  "language_info": {
   "codemirror_mode": {
    "name": "ipython",
    "version": 3
   },
   "file_extension": ".py",
   "mimetype": "text/x-python",
   "name": "python",
   "nbconvert_exporter": "python",
   "pygments_lexer": "ipython3",
   "version": "3.11.5"
  }
 },
 "nbformat": 4,
 "nbformat_minor": 5
}
